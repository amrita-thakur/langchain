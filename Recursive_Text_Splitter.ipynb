{
 "cells": [
  {
   "cell_type": "markdown",
   "metadata": {},
   "source": [
    "### **Import required libraries**"
   ]
  },
  {
   "cell_type": "code",
   "execution_count": 5,
   "metadata": {},
   "outputs": [],
   "source": [
    "from langchain.text_splitter import RecursiveCharacterTextSplitter"
   ]
  },
  {
   "cell_type": "markdown",
   "metadata": {},
   "source": [
    "### **Sample Data**"
   ]
  },
  {
   "cell_type": "code",
   "execution_count": 11,
   "metadata": {},
   "outputs": [],
   "source": [
    "text = \"\"\"What are the common types of eating disorders?\n",
    "\n",
    "Common types of eating disorders include:\n",
    "● Anorexia nervosa: People with anorexia nervosa severely avoid or restrict \n",
    "food intake due to a distorted self-image or an intense fear of gaining \n",
    "weight. Even when dangerously underweight, they may see themselves as \n",
    "overweight. Some people with anorexia nervosa may also have binge eating \n",
    "and purging episodes.\n",
    "● Binge-eating disorder: People with binge-eating disorder regularly lose \n",
    "control of their eating and eat unusually large amounts of food. People with \n",
    "binge-eating disorder are often overweight or obese.\n",
    "● Bulimia nervosa: People with bulimia nervosa regularly binge eat and then \n",
    "engage in unhealthy behaviors to prevent weight gain, such as forced vomiting \n",
    "or the use of laxatives. People with bulimia nervosa may maintain an average \n",
    "weight or be overweight.\n",
    "● Avoidant restrictive food intake disorder (ARFID): People with ARFID limit \n",
    "the amount and variety of food they eat due to their anxiety or fear of the \n",
    "consequences of eating (such as choking or vomiting) or dislike of a food’s \n",
    "characteristics (such as its appearance or texture). People with ARFID are \n",
    "frequently underweight.\n",
    "\"\"\""
   ]
  },
  {
   "cell_type": "code",
   "execution_count": 12,
   "metadata": {},
   "outputs": [
    {
     "data": {
      "text/plain": [
       "'What are the common types of eating disorders?\\n\\nCommon types of eating disorders include:\\n● Anorexia nervosa: People with anorexia nervosa severely avoid or restrict \\nfood intake due to a distorted self-image or an intense fear of gaining \\nweight. Even when dangerously underweight, they may see themselves as \\noverweight. Some people with anorexia nervosa may also have binge eating \\nand purging episodes.\\n● Binge-eating disorder: People with binge-eating disorder regularly lose \\ncontrol of their eating and eat unusually large amounts of food. People with \\nbinge-eating disorder are often overweight or obese.\\n● Bulimia nervosa: People with bulimia nervosa regularly binge eat and then \\nengage in unhealthy behaviors to prevent weight gain, such as forced vomiting \\nor the use of laxatives. People with bulimia nervosa may maintain an average \\nweight or be overweight.\\n● Avoidant restrictive food intake disorder (ARFID): People with ARFID limit \\nthe amount and variety of food they eat due to their anxiety or fear of the \\nconsequences of eating (such as choking or vomiting) or dislike of a food’s \\ncharacteristics (such as its appearance or texture). People with ARFID are \\nfrequently underweight.\\n'"
      ]
     },
     "execution_count": 12,
     "metadata": {},
     "output_type": "execute_result"
    }
   ],
   "source": [
    "text"
   ]
  },
  {
   "cell_type": "markdown",
   "metadata": {},
   "source": [
    "### **Use RecursiveCharacterTextSplitter() with chunk size 500 to split text**"
   ]
  },
  {
   "cell_type": "code",
   "execution_count": 24,
   "metadata": {},
   "outputs": [],
   "source": [
    "#split text into chunks\n",
    "text_splitter  = RecursiveCharacterTextSplitter(chunk_size=500, chunk_overlap=0, length_function=len)\n",
    "text_chunks = text_splitter.split_text(text)"
   ]
  },
  {
   "cell_type": "code",
   "execution_count": 14,
   "metadata": {},
   "outputs": [
    {
     "data": {
      "text/plain": [
       "['What are the common types of eating disorders?',\n",
       " 'Common types of eating disorders include:\\n● Anorexia nervosa: People with anorexia nervosa severely avoid or restrict \\nfood intake due to a distorted self-image or an intense fear of gaining \\nweight. Even when dangerously underweight, they may see themselves as \\noverweight. Some people with anorexia nervosa may also have binge eating \\nand purging episodes.\\n● Binge-eating disorder: People with binge-eating disorder regularly lose',\n",
       " 'control of their eating and eat unusually large amounts of food. People with \\nbinge-eating disorder are often overweight or obese.\\n● Bulimia nervosa: People with bulimia nervosa regularly binge eat and then \\nengage in unhealthy behaviors to prevent weight gain, such as forced vomiting \\nor the use of laxatives. People with bulimia nervosa may maintain an average \\nweight or be overweight.\\n● Avoidant restrictive food intake disorder (ARFID): People with ARFID limit',\n",
       " 'the amount and variety of food they eat due to their anxiety or fear of the \\nconsequences of eating (such as choking or vomiting) or dislike of a food’s \\ncharacteristics (such as its appearance or texture). People with ARFID are \\nfrequently underweight.']"
      ]
     },
     "execution_count": 14,
     "metadata": {},
     "output_type": "execute_result"
    }
   ],
   "source": [
    "text_chunks"
   ]
  },
  {
   "cell_type": "code",
   "execution_count": 15,
   "metadata": {},
   "outputs": [
    {
     "data": {
      "text/plain": [
       "4"
      ]
     },
     "execution_count": 15,
     "metadata": {},
     "output_type": "execute_result"
    }
   ],
   "source": [
    "len(text_chunks)"
   ]
  },
  {
   "cell_type": "code",
   "execution_count": 16,
   "metadata": {},
   "outputs": [
    {
     "name": "stdout",
     "output_type": "stream",
     "text": [
      "chunk # 0, size: 46\n",
      "chunk # 1, size: 432\n",
      "chunk # 2, size: 466\n",
      "chunk # 3, size: 253\n"
     ]
    }
   ],
   "source": [
    "for i, _ in enumerate(text_chunks):\n",
    "    print(f\"chunk # {i}, size: {len(text_chunks[i])}\")"
   ]
  },
  {
   "cell_type": "code",
   "execution_count": 26,
   "metadata": {},
   "outputs": [
    {
     "name": "stdout",
     "output_type": "stream",
     "text": [
      "chunks # 0: What are the common types of eating disorders?\n",
      "******************************************************************************************\n",
      "chunks # 1: Common types of eating disorders include:\n",
      "● Anorexia nervosa: People with anorexia nervosa severely avoid or restrict \n",
      "food intake due to a distorted self-image or an intense fear of gaining \n",
      "weight. Even when dangerously underweight, they may see themselves as \n",
      "overweight. Some people with anorexia nervosa may also have binge eating \n",
      "and purging episodes.\n",
      "● Binge-eating disorder: People with binge-eating disorder regularly lose\n",
      "******************************************************************************************\n",
      "chunks # 2: control of their eating and eat unusually large amounts of food. People with \n",
      "binge-eating disorder are often overweight or obese.\n",
      "● Bulimia nervosa: People with bulimia nervosa regularly binge eat and then \n",
      "engage in unhealthy behaviors to prevent weight gain, such as forced vomiting \n",
      "or the use of laxatives. People with bulimia nervosa may maintain an average \n",
      "weight or be overweight.\n",
      "● Avoidant restrictive food intake disorder (ARFID): People with ARFID limit\n",
      "******************************************************************************************\n",
      "chunks # 3: the amount and variety of food they eat due to their anxiety or fear of the \n",
      "consequences of eating (such as choking or vomiting) or dislike of a food’s \n",
      "characteristics (such as its appearance or texture). People with ARFID are \n",
      "frequently underweight.\n",
      "******************************************************************************************\n"
     ]
    }
   ],
   "source": [
    "for i, _ in enumerate(text_chunks):\n",
    "    print(f\"chunks # {i}: {text_chunks[i]}\")\n",
    "    print(\"******************************************************************************************\")"
   ]
  },
  {
   "cell_type": "markdown",
   "metadata": {},
   "source": [
    "### **Use RecursiveCharacterTextSplitter() with chunk size 200 to split text**"
   ]
  },
  {
   "cell_type": "code",
   "execution_count": 27,
   "metadata": {},
   "outputs": [],
   "source": [
    "#split text into chunks\n",
    "text_splitter  = RecursiveCharacterTextSplitter(chunk_size=200, chunk_overlap=0, length_function=len)\n",
    "text_chunks = text_splitter.split_text(text)"
   ]
  },
  {
   "cell_type": "code",
   "execution_count": 28,
   "metadata": {},
   "outputs": [
    {
     "data": {
      "text/plain": [
       "['What are the common types of eating disorders?',\n",
       " 'Common types of eating disorders include:\\n● Anorexia nervosa: People with anorexia nervosa severely avoid or restrict \\nfood intake due to a distorted self-image or an intense fear of gaining',\n",
       " 'weight. Even when dangerously underweight, they may see themselves as \\noverweight. Some people with anorexia nervosa may also have binge eating \\nand purging episodes.',\n",
       " '● Binge-eating disorder: People with binge-eating disorder regularly lose \\ncontrol of their eating and eat unusually large amounts of food. People with',\n",
       " 'binge-eating disorder are often overweight or obese.\\n● Bulimia nervosa: People with bulimia nervosa regularly binge eat and then',\n",
       " 'engage in unhealthy behaviors to prevent weight gain, such as forced vomiting \\nor the use of laxatives. People with bulimia nervosa may maintain an average \\nweight or be overweight.',\n",
       " '● Avoidant restrictive food intake disorder (ARFID): People with ARFID limit \\nthe amount and variety of food they eat due to their anxiety or fear of the',\n",
       " 'consequences of eating (such as choking or vomiting) or dislike of a food’s \\ncharacteristics (such as its appearance or texture). People with ARFID are \\nfrequently underweight.']"
      ]
     },
     "execution_count": 28,
     "metadata": {},
     "output_type": "execute_result"
    }
   ],
   "source": [
    "text_chunks"
   ]
  },
  {
   "cell_type": "code",
   "execution_count": 29,
   "metadata": {},
   "outputs": [
    {
     "data": {
      "text/plain": [
       "8"
      ]
     },
     "execution_count": 29,
     "metadata": {},
     "output_type": "execute_result"
    }
   ],
   "source": [
    "len(text_chunks)"
   ]
  },
  {
   "cell_type": "code",
   "execution_count": 30,
   "metadata": {},
   "outputs": [
    {
     "name": "stdout",
     "output_type": "stream",
     "text": [
      "chunk # 0, size: 46\n",
      "chunk # 1, size: 190\n",
      "chunk # 2, size: 166\n",
      "chunk # 3, size: 151\n",
      "chunk # 4, size: 128\n",
      "chunk # 5, size: 181\n",
      "chunk # 6, size: 153\n",
      "chunk # 7, size: 176\n"
     ]
    }
   ],
   "source": [
    "for i, _ in enumerate(text_chunks):\n",
    "    print(f\"chunk # {i}, size: {len(text_chunks[i])}\")"
   ]
  },
  {
   "cell_type": "code",
   "execution_count": 31,
   "metadata": {},
   "outputs": [
    {
     "name": "stdout",
     "output_type": "stream",
     "text": [
      "chunks # 0: What are the common types of eating disorders?\n",
      "******************************************************************************************\n",
      "chunks # 1: Common types of eating disorders include:\n",
      "● Anorexia nervosa: People with anorexia nervosa severely avoid or restrict \n",
      "food intake due to a distorted self-image or an intense fear of gaining\n",
      "******************************************************************************************\n",
      "chunks # 2: weight. Even when dangerously underweight, they may see themselves as \n",
      "overweight. Some people with anorexia nervosa may also have binge eating \n",
      "and purging episodes.\n",
      "******************************************************************************************\n",
      "chunks # 3: ● Binge-eating disorder: People with binge-eating disorder regularly lose \n",
      "control of their eating and eat unusually large amounts of food. People with\n",
      "******************************************************************************************\n",
      "chunks # 4: binge-eating disorder are often overweight or obese.\n",
      "● Bulimia nervosa: People with bulimia nervosa regularly binge eat and then\n",
      "******************************************************************************************\n",
      "chunks # 5: engage in unhealthy behaviors to prevent weight gain, such as forced vomiting \n",
      "or the use of laxatives. People with bulimia nervosa may maintain an average \n",
      "weight or be overweight.\n",
      "******************************************************************************************\n",
      "chunks # 6: ● Avoidant restrictive food intake disorder (ARFID): People with ARFID limit \n",
      "the amount and variety of food they eat due to their anxiety or fear of the\n",
      "******************************************************************************************\n",
      "chunks # 7: consequences of eating (such as choking or vomiting) or dislike of a food’s \n",
      "characteristics (such as its appearance or texture). People with ARFID are \n",
      "frequently underweight.\n",
      "******************************************************************************************\n"
     ]
    }
   ],
   "source": [
    "for i, _ in enumerate(text_chunks):\n",
    "    print(f\"chunks # {i}: {text_chunks[i]}\")\n",
    "    print(\"******************************************************************************************\")"
   ]
  }
 ],
 "metadata": {
  "kernelspec": {
   "display_name": "langchain_env",
   "language": "python",
   "name": "python3"
  },
  "language_info": {
   "codemirror_mode": {
    "name": "ipython",
    "version": 3
   },
   "file_extension": ".py",
   "mimetype": "text/x-python",
   "name": "python",
   "nbconvert_exporter": "python",
   "pygments_lexer": "ipython3",
   "version": "3.10.14"
  }
 },
 "nbformat": 4,
 "nbformat_minor": 2
}
